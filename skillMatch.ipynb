{
 "cells": [
  {
   "cell_type": "markdown",
   "id": "07bc95b6-ccd9-4382-85d0-c8c9feeb903f",
   "metadata": {},
   "source": [
    "### Import all necessary libraries"
   ]
  },
  {
   "cell_type": "code",
   "execution_count": 68,
   "id": "2cce84ba-0e3f-4eac-a648-7f344746ce9d",
   "metadata": {},
   "outputs": [],
   "source": [
    "import pandas as pd\n",
    "from sklearn.model_selection import train_test_split\n",
    "from sklearn.feature_extraction.text import TfidfVectorizer\n",
    "from sklearn.ensemble import RandomForestClassifier\n",
    "from sklearn.metrics import accuracy_score"
   ]
  },
  {
   "cell_type": "markdown",
   "id": "b867c378-9198-4dc3-9363-dd8171560d82",
   "metadata": {},
   "source": [
    "### Read/Load the dataset"
   ]
  },
  {
   "cell_type": "code",
   "execution_count": 69,
   "id": "6483e9a8-8d86-4820-abd4-b41cfc5e2261",
   "metadata": {},
   "outputs": [
    {
     "name": "stdout",
     "output_type": "stream",
     "text": [
      "(19000, 11)\n",
      "Index(['Title', 'Experience', 'Location', 'Skill_1', 'Skill_2', 'Skill_3',\n",
      "       'Skill_4', 'Skill_5', 'Skill_6', 'Skill_7', 'Skill_8'],\n",
      "      dtype='object')\n"
     ]
    }
   ],
   "source": [
    "data = pd.read_csv(\"job_dataset.csv\")\n",
    "print(data.shape)\n",
    "print(data.columns)"
   ]
  },
  {
   "cell_type": "markdown",
   "id": "7f14de21-15f0-4b42-81b1-552431c4a608",
   "metadata": {},
   "source": [
    "### Combine all skills and define features(X)"
   ]
  },
  {
   "cell_type": "code",
   "execution_count": 70,
   "id": "05fb91b8-8e68-426f-bb94-657f54815fd4",
   "metadata": {},
   "outputs": [],
   "source": [
    "data['Skills'] = data[['Skill_1', 'Skill_2', 'Skill_3', 'Skill_4', 'Skill_5', 'Skill_6', 'Skill_7', 'Skill_8']].apply(lambda x: ' '.join(x.astype(str)), axis=1)\n",
    "X = data['Skills']"
   ]
  },
  {
   "cell_type": "markdown",
   "id": "a5308af9-aa39-4749-8a3a-af682767d9a7",
   "metadata": {},
   "source": [
    "### Define target(y) columns"
   ]
  },
  {
   "cell_type": "code",
   "execution_count": 71,
   "id": "7411e21b-1cb8-4f27-8f92-2dacd01b2429",
   "metadata": {},
   "outputs": [],
   "source": [
    "y = data['Title']"
   ]
  },
  {
   "cell_type": "markdown",
   "id": "e9f8a9fc-7380-4449-af40-d00a8224f25c",
   "metadata": {},
   "source": [
    "### Splitting the data into train and test sets"
   ]
  },
  {
   "cell_type": "code",
   "execution_count": 72,
   "id": "26c4ea0b-9337-470a-8f94-3498965b4d86",
   "metadata": {},
   "outputs": [],
   "source": [
    "X_train, X_test, y_train, y_test = train_test_split(X, y, test_size=0.2, random_state=42)"
   ]
  },
  {
   "cell_type": "markdown",
   "id": "1104cff1-29b6-4f22-a86f-0f4afb75357b",
   "metadata": {},
   "source": [
    "### Apply TF-IDF (Term Frequency-Inverse Document Frequency) to transform the skills into numerical features."
   ]
  },
  {
   "cell_type": "code",
   "execution_count": 73,
   "id": "b15a305c-944b-4b61-b7ff-9bc9cc859df0",
   "metadata": {},
   "outputs": [],
   "source": [
    "tfidf = TfidfVectorizer()\n",
    "X_train_tfidf = tfidf.fit_transform(X_train)\n",
    "X_test_tfidf = tfidf.transform(X_test)"
   ]
  },
  {
   "cell_type": "markdown",
   "id": "96cda73a-d452-453c-8c14-e4a45ae691d6",
   "metadata": {},
   "source": [
    "### Convert target column to numeric values"
   ]
  },
  {
   "cell_type": "code",
   "execution_count": 74,
   "id": "166728d5-fb27-4724-b466-5d0a1f4782ac",
   "metadata": {},
   "outputs": [],
   "source": [
    "y_train_numeric = y_train.astype('category').cat.codes\n",
    "y_test_numeric = y_test.astype('category').cat.codes"
   ]
  },
  {
   "cell_type": "markdown",
   "id": "96396e61-f077-486c-8f88-deb9a570ecca",
   "metadata": {},
   "source": [
    "### Training a Random Forest Classifier Model"
   ]
  },
  {
   "cell_type": "code",
   "execution_count": 75,
   "id": "ffe213f5-3891-42b6-aa25-734f971e4f21",
   "metadata": {},
   "outputs": [
    {
     "data": {
      "text/html": [
       "<style>#sk-container-id-2 {\n",
       "  /* Definition of color scheme common for light and dark mode */\n",
       "  --sklearn-color-text: black;\n",
       "  --sklearn-color-line: gray;\n",
       "  /* Definition of color scheme for unfitted estimators */\n",
       "  --sklearn-color-unfitted-level-0: #fff5e6;\n",
       "  --sklearn-color-unfitted-level-1: #f6e4d2;\n",
       "  --sklearn-color-unfitted-level-2: #ffe0b3;\n",
       "  --sklearn-color-unfitted-level-3: chocolate;\n",
       "  /* Definition of color scheme for fitted estimators */\n",
       "  --sklearn-color-fitted-level-0: #f0f8ff;\n",
       "  --sklearn-color-fitted-level-1: #d4ebff;\n",
       "  --sklearn-color-fitted-level-2: #b3dbfd;\n",
       "  --sklearn-color-fitted-level-3: cornflowerblue;\n",
       "\n",
       "  /* Specific color for light theme */\n",
       "  --sklearn-color-text-on-default-background: var(--sg-text-color, var(--theme-code-foreground, var(--jp-content-font-color1, black)));\n",
       "  --sklearn-color-background: var(--sg-background-color, var(--theme-background, var(--jp-layout-color0, white)));\n",
       "  --sklearn-color-border-box: var(--sg-text-color, var(--theme-code-foreground, var(--jp-content-font-color1, black)));\n",
       "  --sklearn-color-icon: #696969;\n",
       "\n",
       "  @media (prefers-color-scheme: dark) {\n",
       "    /* Redefinition of color scheme for dark theme */\n",
       "    --sklearn-color-text-on-default-background: var(--sg-text-color, var(--theme-code-foreground, var(--jp-content-font-color1, white)));\n",
       "    --sklearn-color-background: var(--sg-background-color, var(--theme-background, var(--jp-layout-color0, #111)));\n",
       "    --sklearn-color-border-box: var(--sg-text-color, var(--theme-code-foreground, var(--jp-content-font-color1, white)));\n",
       "    --sklearn-color-icon: #878787;\n",
       "  }\n",
       "}\n",
       "\n",
       "#sk-container-id-2 {\n",
       "  color: var(--sklearn-color-text);\n",
       "}\n",
       "\n",
       "#sk-container-id-2 pre {\n",
       "  padding: 0;\n",
       "}\n",
       "\n",
       "#sk-container-id-2 input.sk-hidden--visually {\n",
       "  border: 0;\n",
       "  clip: rect(1px 1px 1px 1px);\n",
       "  clip: rect(1px, 1px, 1px, 1px);\n",
       "  height: 1px;\n",
       "  margin: -1px;\n",
       "  overflow: hidden;\n",
       "  padding: 0;\n",
       "  position: absolute;\n",
       "  width: 1px;\n",
       "}\n",
       "\n",
       "#sk-container-id-2 div.sk-dashed-wrapped {\n",
       "  border: 1px dashed var(--sklearn-color-line);\n",
       "  margin: 0 0.4em 0.5em 0.4em;\n",
       "  box-sizing: border-box;\n",
       "  padding-bottom: 0.4em;\n",
       "  background-color: var(--sklearn-color-background);\n",
       "}\n",
       "\n",
       "#sk-container-id-2 div.sk-container {\n",
       "  /* jupyter's `normalize.less` sets `[hidden] { display: none; }`\n",
       "     but bootstrap.min.css set `[hidden] { display: none !important; }`\n",
       "     so we also need the `!important` here to be able to override the\n",
       "     default hidden behavior on the sphinx rendered scikit-learn.org.\n",
       "     See: https://github.com/scikit-learn/scikit-learn/issues/21755 */\n",
       "  display: inline-block !important;\n",
       "  position: relative;\n",
       "}\n",
       "\n",
       "#sk-container-id-2 div.sk-text-repr-fallback {\n",
       "  display: none;\n",
       "}\n",
       "\n",
       "div.sk-parallel-item,\n",
       "div.sk-serial,\n",
       "div.sk-item {\n",
       "  /* draw centered vertical line to link estimators */\n",
       "  background-image: linear-gradient(var(--sklearn-color-text-on-default-background), var(--sklearn-color-text-on-default-background));\n",
       "  background-size: 2px 100%;\n",
       "  background-repeat: no-repeat;\n",
       "  background-position: center center;\n",
       "}\n",
       "\n",
       "/* Parallel-specific style estimator block */\n",
       "\n",
       "#sk-container-id-2 div.sk-parallel-item::after {\n",
       "  content: \"\";\n",
       "  width: 100%;\n",
       "  border-bottom: 2px solid var(--sklearn-color-text-on-default-background);\n",
       "  flex-grow: 1;\n",
       "}\n",
       "\n",
       "#sk-container-id-2 div.sk-parallel {\n",
       "  display: flex;\n",
       "  align-items: stretch;\n",
       "  justify-content: center;\n",
       "  background-color: var(--sklearn-color-background);\n",
       "  position: relative;\n",
       "}\n",
       "\n",
       "#sk-container-id-2 div.sk-parallel-item {\n",
       "  display: flex;\n",
       "  flex-direction: column;\n",
       "}\n",
       "\n",
       "#sk-container-id-2 div.sk-parallel-item:first-child::after {\n",
       "  align-self: flex-end;\n",
       "  width: 50%;\n",
       "}\n",
       "\n",
       "#sk-container-id-2 div.sk-parallel-item:last-child::after {\n",
       "  align-self: flex-start;\n",
       "  width: 50%;\n",
       "}\n",
       "\n",
       "#sk-container-id-2 div.sk-parallel-item:only-child::after {\n",
       "  width: 0;\n",
       "}\n",
       "\n",
       "/* Serial-specific style estimator block */\n",
       "\n",
       "#sk-container-id-2 div.sk-serial {\n",
       "  display: flex;\n",
       "  flex-direction: column;\n",
       "  align-items: center;\n",
       "  background-color: var(--sklearn-color-background);\n",
       "  padding-right: 1em;\n",
       "  padding-left: 1em;\n",
       "}\n",
       "\n",
       "\n",
       "/* Toggleable style: style used for estimator/Pipeline/ColumnTransformer box that is\n",
       "clickable and can be expanded/collapsed.\n",
       "- Pipeline and ColumnTransformer use this feature and define the default style\n",
       "- Estimators will overwrite some part of the style using the `sk-estimator` class\n",
       "*/\n",
       "\n",
       "/* Pipeline and ColumnTransformer style (default) */\n",
       "\n",
       "#sk-container-id-2 div.sk-toggleable {\n",
       "  /* Default theme specific background. It is overwritten whether we have a\n",
       "  specific estimator or a Pipeline/ColumnTransformer */\n",
       "  background-color: var(--sklearn-color-background);\n",
       "}\n",
       "\n",
       "/* Toggleable label */\n",
       "#sk-container-id-2 label.sk-toggleable__label {\n",
       "  cursor: pointer;\n",
       "  display: block;\n",
       "  width: 100%;\n",
       "  margin-bottom: 0;\n",
       "  padding: 0.5em;\n",
       "  box-sizing: border-box;\n",
       "  text-align: center;\n",
       "}\n",
       "\n",
       "#sk-container-id-2 label.sk-toggleable__label-arrow:before {\n",
       "  /* Arrow on the left of the label */\n",
       "  content: \"▸\";\n",
       "  float: left;\n",
       "  margin-right: 0.25em;\n",
       "  color: var(--sklearn-color-icon);\n",
       "}\n",
       "\n",
       "#sk-container-id-2 label.sk-toggleable__label-arrow:hover:before {\n",
       "  color: var(--sklearn-color-text);\n",
       "}\n",
       "\n",
       "/* Toggleable content - dropdown */\n",
       "\n",
       "#sk-container-id-2 div.sk-toggleable__content {\n",
       "  max-height: 0;\n",
       "  max-width: 0;\n",
       "  overflow: hidden;\n",
       "  text-align: left;\n",
       "  /* unfitted */\n",
       "  background-color: var(--sklearn-color-unfitted-level-0);\n",
       "}\n",
       "\n",
       "#sk-container-id-2 div.sk-toggleable__content.fitted {\n",
       "  /* fitted */\n",
       "  background-color: var(--sklearn-color-fitted-level-0);\n",
       "}\n",
       "\n",
       "#sk-container-id-2 div.sk-toggleable__content pre {\n",
       "  margin: 0.2em;\n",
       "  border-radius: 0.25em;\n",
       "  color: var(--sklearn-color-text);\n",
       "  /* unfitted */\n",
       "  background-color: var(--sklearn-color-unfitted-level-0);\n",
       "}\n",
       "\n",
       "#sk-container-id-2 div.sk-toggleable__content.fitted pre {\n",
       "  /* unfitted */\n",
       "  background-color: var(--sklearn-color-fitted-level-0);\n",
       "}\n",
       "\n",
       "#sk-container-id-2 input.sk-toggleable__control:checked~div.sk-toggleable__content {\n",
       "  /* Expand drop-down */\n",
       "  max-height: 200px;\n",
       "  max-width: 100%;\n",
       "  overflow: auto;\n",
       "}\n",
       "\n",
       "#sk-container-id-2 input.sk-toggleable__control:checked~label.sk-toggleable__label-arrow:before {\n",
       "  content: \"▾\";\n",
       "}\n",
       "\n",
       "/* Pipeline/ColumnTransformer-specific style */\n",
       "\n",
       "#sk-container-id-2 div.sk-label input.sk-toggleable__control:checked~label.sk-toggleable__label {\n",
       "  color: var(--sklearn-color-text);\n",
       "  background-color: var(--sklearn-color-unfitted-level-2);\n",
       "}\n",
       "\n",
       "#sk-container-id-2 div.sk-label.fitted input.sk-toggleable__control:checked~label.sk-toggleable__label {\n",
       "  background-color: var(--sklearn-color-fitted-level-2);\n",
       "}\n",
       "\n",
       "/* Estimator-specific style */\n",
       "\n",
       "/* Colorize estimator box */\n",
       "#sk-container-id-2 div.sk-estimator input.sk-toggleable__control:checked~label.sk-toggleable__label {\n",
       "  /* unfitted */\n",
       "  background-color: var(--sklearn-color-unfitted-level-2);\n",
       "}\n",
       "\n",
       "#sk-container-id-2 div.sk-estimator.fitted input.sk-toggleable__control:checked~label.sk-toggleable__label {\n",
       "  /* fitted */\n",
       "  background-color: var(--sklearn-color-fitted-level-2);\n",
       "}\n",
       "\n",
       "#sk-container-id-2 div.sk-label label.sk-toggleable__label,\n",
       "#sk-container-id-2 div.sk-label label {\n",
       "  /* The background is the default theme color */\n",
       "  color: var(--sklearn-color-text-on-default-background);\n",
       "}\n",
       "\n",
       "/* On hover, darken the color of the background */\n",
       "#sk-container-id-2 div.sk-label:hover label.sk-toggleable__label {\n",
       "  color: var(--sklearn-color-text);\n",
       "  background-color: var(--sklearn-color-unfitted-level-2);\n",
       "}\n",
       "\n",
       "/* Label box, darken color on hover, fitted */\n",
       "#sk-container-id-2 div.sk-label.fitted:hover label.sk-toggleable__label.fitted {\n",
       "  color: var(--sklearn-color-text);\n",
       "  background-color: var(--sklearn-color-fitted-level-2);\n",
       "}\n",
       "\n",
       "/* Estimator label */\n",
       "\n",
       "#sk-container-id-2 div.sk-label label {\n",
       "  font-family: monospace;\n",
       "  font-weight: bold;\n",
       "  display: inline-block;\n",
       "  line-height: 1.2em;\n",
       "}\n",
       "\n",
       "#sk-container-id-2 div.sk-label-container {\n",
       "  text-align: center;\n",
       "}\n",
       "\n",
       "/* Estimator-specific */\n",
       "#sk-container-id-2 div.sk-estimator {\n",
       "  font-family: monospace;\n",
       "  border: 1px dotted var(--sklearn-color-border-box);\n",
       "  border-radius: 0.25em;\n",
       "  box-sizing: border-box;\n",
       "  margin-bottom: 0.5em;\n",
       "  /* unfitted */\n",
       "  background-color: var(--sklearn-color-unfitted-level-0);\n",
       "}\n",
       "\n",
       "#sk-container-id-2 div.sk-estimator.fitted {\n",
       "  /* fitted */\n",
       "  background-color: var(--sklearn-color-fitted-level-0);\n",
       "}\n",
       "\n",
       "/* on hover */\n",
       "#sk-container-id-2 div.sk-estimator:hover {\n",
       "  /* unfitted */\n",
       "  background-color: var(--sklearn-color-unfitted-level-2);\n",
       "}\n",
       "\n",
       "#sk-container-id-2 div.sk-estimator.fitted:hover {\n",
       "  /* fitted */\n",
       "  background-color: var(--sklearn-color-fitted-level-2);\n",
       "}\n",
       "\n",
       "/* Specification for estimator info (e.g. \"i\" and \"?\") */\n",
       "\n",
       "/* Common style for \"i\" and \"?\" */\n",
       "\n",
       ".sk-estimator-doc-link,\n",
       "a:link.sk-estimator-doc-link,\n",
       "a:visited.sk-estimator-doc-link {\n",
       "  float: right;\n",
       "  font-size: smaller;\n",
       "  line-height: 1em;\n",
       "  font-family: monospace;\n",
       "  background-color: var(--sklearn-color-background);\n",
       "  border-radius: 1em;\n",
       "  height: 1em;\n",
       "  width: 1em;\n",
       "  text-decoration: none !important;\n",
       "  margin-left: 1ex;\n",
       "  /* unfitted */\n",
       "  border: var(--sklearn-color-unfitted-level-1) 1pt solid;\n",
       "  color: var(--sklearn-color-unfitted-level-1);\n",
       "}\n",
       "\n",
       ".sk-estimator-doc-link.fitted,\n",
       "a:link.sk-estimator-doc-link.fitted,\n",
       "a:visited.sk-estimator-doc-link.fitted {\n",
       "  /* fitted */\n",
       "  border: var(--sklearn-color-fitted-level-1) 1pt solid;\n",
       "  color: var(--sklearn-color-fitted-level-1);\n",
       "}\n",
       "\n",
       "/* On hover */\n",
       "div.sk-estimator:hover .sk-estimator-doc-link:hover,\n",
       ".sk-estimator-doc-link:hover,\n",
       "div.sk-label-container:hover .sk-estimator-doc-link:hover,\n",
       ".sk-estimator-doc-link:hover {\n",
       "  /* unfitted */\n",
       "  background-color: var(--sklearn-color-unfitted-level-3);\n",
       "  color: var(--sklearn-color-background);\n",
       "  text-decoration: none;\n",
       "}\n",
       "\n",
       "div.sk-estimator.fitted:hover .sk-estimator-doc-link.fitted:hover,\n",
       ".sk-estimator-doc-link.fitted:hover,\n",
       "div.sk-label-container:hover .sk-estimator-doc-link.fitted:hover,\n",
       ".sk-estimator-doc-link.fitted:hover {\n",
       "  /* fitted */\n",
       "  background-color: var(--sklearn-color-fitted-level-3);\n",
       "  color: var(--sklearn-color-background);\n",
       "  text-decoration: none;\n",
       "}\n",
       "\n",
       "/* Span, style for the box shown on hovering the info icon */\n",
       ".sk-estimator-doc-link span {\n",
       "  display: none;\n",
       "  z-index: 9999;\n",
       "  position: relative;\n",
       "  font-weight: normal;\n",
       "  right: .2ex;\n",
       "  padding: .5ex;\n",
       "  margin: .5ex;\n",
       "  width: min-content;\n",
       "  min-width: 20ex;\n",
       "  max-width: 50ex;\n",
       "  color: var(--sklearn-color-text);\n",
       "  box-shadow: 2pt 2pt 4pt #999;\n",
       "  /* unfitted */\n",
       "  background: var(--sklearn-color-unfitted-level-0);\n",
       "  border: .5pt solid var(--sklearn-color-unfitted-level-3);\n",
       "}\n",
       "\n",
       ".sk-estimator-doc-link.fitted span {\n",
       "  /* fitted */\n",
       "  background: var(--sklearn-color-fitted-level-0);\n",
       "  border: var(--sklearn-color-fitted-level-3);\n",
       "}\n",
       "\n",
       ".sk-estimator-doc-link:hover span {\n",
       "  display: block;\n",
       "}\n",
       "\n",
       "/* \"?\"-specific style due to the `<a>` HTML tag */\n",
       "\n",
       "#sk-container-id-2 a.estimator_doc_link {\n",
       "  float: right;\n",
       "  font-size: 1rem;\n",
       "  line-height: 1em;\n",
       "  font-family: monospace;\n",
       "  background-color: var(--sklearn-color-background);\n",
       "  border-radius: 1rem;\n",
       "  height: 1rem;\n",
       "  width: 1rem;\n",
       "  text-decoration: none;\n",
       "  /* unfitted */\n",
       "  color: var(--sklearn-color-unfitted-level-1);\n",
       "  border: var(--sklearn-color-unfitted-level-1) 1pt solid;\n",
       "}\n",
       "\n",
       "#sk-container-id-2 a.estimator_doc_link.fitted {\n",
       "  /* fitted */\n",
       "  border: var(--sklearn-color-fitted-level-1) 1pt solid;\n",
       "  color: var(--sklearn-color-fitted-level-1);\n",
       "}\n",
       "\n",
       "/* On hover */\n",
       "#sk-container-id-2 a.estimator_doc_link:hover {\n",
       "  /* unfitted */\n",
       "  background-color: var(--sklearn-color-unfitted-level-3);\n",
       "  color: var(--sklearn-color-background);\n",
       "  text-decoration: none;\n",
       "}\n",
       "\n",
       "#sk-container-id-2 a.estimator_doc_link.fitted:hover {\n",
       "  /* fitted */\n",
       "  background-color: var(--sklearn-color-fitted-level-3);\n",
       "}\n",
       "</style><div id=\"sk-container-id-2\" class=\"sk-top-container\"><div class=\"sk-text-repr-fallback\"><pre>RandomForestClassifier(random_state=42)</pre><b>In a Jupyter environment, please rerun this cell to show the HTML representation or trust the notebook. <br />On GitHub, the HTML representation is unable to render, please try loading this page with nbviewer.org.</b></div><div class=\"sk-container\" hidden><div class=\"sk-item\"><div class=\"sk-estimator fitted sk-toggleable\"><input class=\"sk-toggleable__control sk-hidden--visually\" id=\"sk-estimator-id-2\" type=\"checkbox\" checked><label for=\"sk-estimator-id-2\" class=\"sk-toggleable__label fitted sk-toggleable__label-arrow fitted\">&nbsp;&nbsp;RandomForestClassifier<a class=\"sk-estimator-doc-link fitted\" rel=\"noreferrer\" target=\"_blank\" href=\"https://scikit-learn.org/1.5/modules/generated/sklearn.ensemble.RandomForestClassifier.html\">?<span>Documentation for RandomForestClassifier</span></a><span class=\"sk-estimator-doc-link fitted\">i<span>Fitted</span></span></label><div class=\"sk-toggleable__content fitted\"><pre>RandomForestClassifier(random_state=42)</pre></div> </div></div></div></div>"
      ],
      "text/plain": [
       "RandomForestClassifier(random_state=42)"
      ]
     },
     "execution_count": 75,
     "metadata": {},
     "output_type": "execute_result"
    }
   ],
   "source": [
    "rf_model = RandomForestClassifier(n_estimators=100, random_state=42)\n",
    "rf_model.fit(X_train_tfidf, y_train_numeric)"
   ]
  },
  {
   "cell_type": "markdown",
   "id": "0c6edf44-928a-4d56-98c6-d417cf07ffe1",
   "metadata": {},
   "source": [
    "### Make predictions on test set and evaluate accuracy"
   ]
  },
  {
   "cell_type": "code",
   "execution_count": 76,
   "id": "abc32b4a-5536-47b8-a723-5924029e4121",
   "metadata": {},
   "outputs": [
    {
     "name": "stdout",
     "output_type": "stream",
     "text": [
      "Accuracy: 100.00%\n"
     ]
    }
   ],
   "source": [
    "y_pred = rf_model.predict(X_test_tfidf)\n",
    "accuracy = accuracy_score(y_test_numeric, y_pred)\n",
    "print(f'Accuracy: {accuracy * 100:.2f}%')"
   ]
  },
  {
   "cell_type": "markdown",
   "id": "71112634-ff31-49d1-b84f-72dd64b9a53c",
   "metadata": {},
   "source": [
    "### Getting unique skills "
   ]
  },
  {
   "cell_type": "code",
   "execution_count": 77,
   "id": "1f03a6bb-74b9-4707-abdd-1f821f941011",
   "metadata": {},
   "outputs": [
    {
     "name": "stdout",
     "output_type": "stream",
     "text": [
      "['Git', 'Data Structures', 'Algorithms', 'OOP', 'Java', 'Python', 'SQL', 'Excel', 'Power BI', 'Statistics', 'Tableau', 'Visualization', 'NLP', 'PyTorch', 'Scikit-learn', 'TensorFlow', 'Computer Vision', 'Deep Learning', 'Penetration Testing', 'Firewalls', 'Linux', 'Network Security', 'Ethical Hacking', 'Incident Response', 'Kubernetes', 'AWS', 'Docker', 'Terraform', 'Networking', 'DevOps', 'Google Cloud', 'Azure', 'HTML', 'React', 'MongoDB', 'JavaScript', 'CSS', 'Express.js', 'Node.js', 'Express', 'Forecasting', 'Budgeting', 'Financial Modeling', 'Investment Analysis', 'Private Equity', 'Mergers', 'Risk Analysis', 'IPO', 'Corporate Finance', 'SEO', 'PPC', 'Google Analytics', 'Social Media', 'Google Ads', 'Email Marketing', 'Conflict Resolution', 'Payroll', 'Employee Relations', 'Training', 'Onboarding', 'HR Policies', 'Recruitment', 'Surgery', 'Pathology', 'Diagnosis', 'Emergency Medicine', 'Patient Care', 'Public Health', 'Lesson Planning', 'Classroom Management', 'Student Assessment', 'Communication', 'Digital Learning', 'Educational Psychology', 'Curriculum Development', 'Public Speaking', 'Intellectual Property', 'Criminal Law', 'Negotiation', 'Legal Research', 'Contract Law', 'Corporate Law', 'Adobe Illustrator', 'Adobe Photoshop', 'Logo Design', 'Sketching', 'Color Theory', 'Typography', 'Branding', 'Robotics', 'Thermodynamics', 'CAD', 'AutoCAD', 'SolidWorks', 'Structural Analysis', 'Project Planning', 'Building Codes', 'Construction Management', 'Geotechnical Engineering', 'Surveying', 'Cost Estimation', 'Food & Beverage', 'Customer Service', 'Guest Relations', 'Marketing', 'Revenue Management', 'Event Management', 'Hospitality', 'C++', 'Data Cleaning', 'Big Data', 'Encryption', 'Shell Scripting', 'Jenkins', 'CI/CD', 'API Design', 'Valuation', 'Brand Management', 'Content Strategy', 'Performance Management', 'Medical Ethics', 'Litigation', 'Mechanical Design', 'Manufacturing', 'SIEM', 'Accounting', 'Pharmacology', 'UI Design', 'Fluid Mechanics', 'Hotel Operations', 'Client Consultation']\n"
     ]
    }
   ],
   "source": [
    "skill_cols = ['Skill_1','Skill_2','Skill_3','Skill_4','Skill_5','Skill_6','Skill_7','Skill_8']\n",
    "all_skills = pd.concat([data[skill] for skill in skill_cols]).dropna()\n",
    "unique_skills_list = list(all_skills.unique())\n",
    "print(unique_skills_list)"
   ]
  },
  {
   "cell_type": "markdown",
   "id": "12ca369d-8dd8-4f0d-920a-73a1d0849b10",
   "metadata": {},
   "source": [
    "### Defining function to make prediction using model"
   ]
  },
  {
   "cell_type": "code",
   "execution_count": 80,
   "id": "91176cbe-698c-4f60-ace6-4214924d5a06",
   "metadata": {},
   "outputs": [],
   "source": [
    "def predictTitle(new_data):\n",
    "    filtered_data = [skill if skill in unique_skills_list else None for skill in new_data]\n",
    "    \n",
    "    missing_skills = [skill for skill, filtered in zip(new_data, filtered_data) if filtered is None]\n",
    "    if missing_skills:\n",
    "        print(f\"The following skills are not present in the dataset and will be ignored: {missing_skills}\")\n",
    "    \n",
    "    new_data_format = {\n",
    "        'Skill_1': filtered_data[0] if filtered_data[0] is not None else '',\n",
    "        'Skill_2': filtered_data[1] if filtered_data[1] is not None else '',\n",
    "        'Skill_3': filtered_data[2] if filtered_data[2] is not None else '',\n",
    "        'Skill_4': filtered_data[3] if filtered_data[3] is not None else '',\n",
    "        'Skill_5': filtered_data[4] if filtered_data[4] is not None else '',\n",
    "        'Skill_6': filtered_data[5] if filtered_data[5] is not None else '',\n",
    "        'Skill_7': filtered_data[6] if filtered_data[6] is not None else '',\n",
    "        'Skill_8': filtered_data[7] if filtered_data[7] is not None else ''\n",
    "    }\n",
    "    \n",
    "    new_data_combined = ' '.join(new_data_format.values())\n",
    "    \n",
    "    new_data_tfidf = tfidf.transform([new_data_combined])\n",
    "    \n",
    "    predicted_label_numeric = rf_model.predict(new_data_tfidf)\n",
    "    \n",
    "    predicted_label = y_train.astype('category').cat.categories[predicted_label_numeric[0]]\n",
    "    \n",
    "    return predicted_label"
   ]
  },
  {
   "cell_type": "code",
   "execution_count": 89,
   "id": "bb11b552-835e-4347-b6ee-34077aaefe09",
   "metadata": {},
   "outputs": [],
   "source": [
    "def predictTop3Titles(new_data):\n",
    "    # Filter out skills not present in the unique_skills_list\n",
    "    filtered_data = [skill if skill in unique_skills_list else None for skill in new_data]\n",
    "    \n",
    "    # Check for missing skills and inform the user\n",
    "    missing_skills = [skill for skill, filtered in zip(new_data, filtered_data) if filtered is None]\n",
    "    if missing_skills:\n",
    "        print(f\"The following skills are not present in the dataset and will be ignored: {missing_skills}\")\n",
    "    \n",
    "    # Prepare the new data in the required format (replace None with an empty string for missing skills)\n",
    "    new_data_format = {\n",
    "        'Skill_1': filtered_data[0] if filtered_data[0] is not None else '',\n",
    "        'Skill_2': filtered_data[1] if filtered_data[1] is not None else '',\n",
    "        'Skill_3': filtered_data[2] if filtered_data[2] is not None else '',\n",
    "        'Skill_4': filtered_data[3] if filtered_data[3] is not None else '',\n",
    "        'Skill_5': filtered_data[4] if filtered_data[4] is not None else '',\n",
    "        'Skill_6': filtered_data[5] if filtered_data[5] is not None else '',\n",
    "        'Skill_7': filtered_data[6] if filtered_data[6] is not None else '',\n",
    "        'Skill_8': filtered_data[7] if filtered_data[7] is not None else ''\n",
    "    }\n",
    "    \n",
    "    # Combine the skill columns into a single string\n",
    "    new_data_combined = ' '.join(new_data_format.values())\n",
    "    \n",
    "    # Transform the new data using TF-IDF\n",
    "    new_data_tfidf = tfidf.transform([new_data_combined])\n",
    "    \n",
    "    # Get the probabilities for all job titles\n",
    "    predicted_probs = rf_model.predict_proba(new_data_tfidf)\n",
    "    \n",
    "    # Get the top 3 job titles with the highest probabilities\n",
    "    top_3_indices = predicted_probs[0].argsort()[-3:][::-1]\n",
    "    top_3_titles = y_train.astype('category').cat.categories[top_3_indices]\n",
    "    top_3_probs = predicted_probs[0][top_3_indices] * 100  # Convert to percentage\n",
    "    \n",
    "    # Format the output to show percentages\n",
    "    top_3_with_percentage = [(title, f\"{prob:.2f}%\") for title, prob in zip(top_3_titles, top_3_probs)]\n",
    "    \n",
    "    # Return the top 3 titles along with their probabilities\n",
    "    return top_3_with_percentage\n"
   ]
  },
  {
   "cell_type": "markdown",
   "id": "26a77370-1b7b-436c-b800-7a6b93842a15",
   "metadata": {},
   "source": [
    "### Testing using different inputs"
   ]
  },
  {
   "cell_type": "code",
   "execution_count": 90,
   "id": "20f0e779-6994-4326-bd60-4006c5462a2f",
   "metadata": {},
   "outputs": [
    {
     "name": "stdout",
     "output_type": "stream",
     "text": [
      "The following skills are not present in the dataset and will be ignored: ['Machine Learning', 'R']\n",
      "Predicted title: [('Machine Learning Engineer', '42.00%'), ('Software Engineer', '14.00%'), ('Data Analyst', '11.00%')]\n"
     ]
    }
   ],
   "source": [
    "skills = [\n",
    "    'Python', \n",
    "    'SQL', \n",
    "    'Machine Learning', \n",
    "    'Deep Learning', \n",
    "    'TensorFlow', \n",
    "    'NLP', \n",
    "    'Statistics', \n",
    "    'R'\n",
    "]\n",
    "print(f\"Predicted title: {predictTop3Titles(skills)}\")"
   ]
  },
  {
   "cell_type": "code",
   "execution_count": 91,
   "id": "77c6d641-26e6-4eb2-aeed-ac4b2d246518",
   "metadata": {},
   "outputs": [
    {
     "name": "stdout",
     "output_type": "stream",
     "text": [
      "The following skills are not present in the dataset and will be ignored: ['Finite Element Analysis (FEA)', 'Matlab', 'ANSYS', '3D Modeling']\n",
      "Predicted title: [('Mechanical Engineer', '36.00%'), ('Full Stack Developer', '10.00%'), ('Cloud Engineer', '8.00%')]\n"
     ]
    }
   ],
   "source": [
    "skills = [\n",
    "    'AutoCAD', \n",
    "    'SolidWorks', \n",
    "    'Finite Element Analysis (FEA)', \n",
    "    'Matlab', \n",
    "    'ANSYS', \n",
    "    '3D Modeling', \n",
    "    'Mechanical Design', \n",
    "    'Thermodynamics'\n",
    "]\n",
    "print(f\"Predicted title: {predictTop3Titles(skills)}\")"
   ]
  },
  {
   "cell_type": "code",
   "execution_count": 92,
   "id": "082c9224-e7e4-4ccc-b169-ba13007eba71",
   "metadata": {},
   "outputs": [
    {
     "name": "stdout",
     "output_type": "stream",
     "text": [
      "The following skills are not present in the dataset and will be ignored: ['Content Marketing', 'Social Media Marketing', 'PPC Advertising', 'Market Research']\n",
      "Predicted title: [('Marketing Manager', '37.00%'), ('Cloud Engineer', '12.00%'), ('Hotel Manager', '8.00%')]\n"
     ]
    }
   ],
   "source": [
    "skills = [\n",
    "    'SEO', \n",
    "    'Google Analytics', \n",
    "    'Content Marketing', \n",
    "    'Social Media Marketing', \n",
    "    'Email Marketing', \n",
    "    'PPC Advertising', \n",
    "    'Market Research', \n",
    "    'Brand Management'\n",
    "]\n",
    "print(f\"Predicted title: {predictTop3Titles(skills)}\")"
   ]
  },
  {
   "cell_type": "code",
   "execution_count": 84,
   "id": "1ebe462f-7e37-4d42-beae-0772de14c1c6",
   "metadata": {},
   "outputs": [
    {
     "name": "stdout",
     "output_type": "stream",
     "text": [
      "The following skills are not present in the dataset and will be ignored: ['Talent Management', 'Compensation & Benefits', 'HRIS']\n",
      "Predicted title: HR Manager\n"
     ]
    }
   ],
   "source": [
    "skills = [\n",
    "    'Recruitment', \n",
    "    'Talent Management', \n",
    "    'Employee Relations', \n",
    "    'Onboarding', \n",
    "    'Compensation & Benefits', \n",
    "    'HRIS', \n",
    "    'Performance Management', \n",
    "    'Conflict Resolution'\n",
    "]\n",
    "\n",
    "print(f\"Predicted title: {predictTitle(skills)}\")"
   ]
  },
  {
   "cell_type": "code",
   "execution_count": 85,
   "id": "b51017f5-a293-4a0f-9a02-0e59b55336d8",
   "metadata": {},
   "outputs": [
    {
     "name": "stdout",
     "output_type": "stream",
     "text": [
      "The following skills are not present in the dataset and will be ignored: ['Pharmaceutical Care', 'Medication Therapy Management', 'Patient Counseling', 'Prescription Dispensing', 'Drug Interactions', 'Clinical Pharmacolog', 'Inventory Management']\n",
      "Predicted title: Doctor\n"
     ]
    }
   ],
   "source": [
    "skills = [\n",
    "    'Pharmaceutical Care', \n",
    "    'Medication Therapy Management', \n",
    "    'Pharmacology', \n",
    "    'Patient Counseling', \n",
    "    'Prescription Dispensing', \n",
    "    'Drug Interactions', \n",
    "    'Clinical Pharmacolog', \n",
    "    'Inventory Management'\n",
    "]\n",
    "print(f\"Predicted title: {predictTitle(skills)}\")"
   ]
  }
 ],
 "metadata": {
  "kernelspec": {
   "display_name": "Python 3 (ipykernel)",
   "language": "python",
   "name": "python3"
  },
  "language_info": {
   "codemirror_mode": {
    "name": "ipython",
    "version": 3
   },
   "file_extension": ".py",
   "mimetype": "text/x-python",
   "name": "python",
   "nbconvert_exporter": "python",
   "pygments_lexer": "ipython3",
   "version": "3.12.7"
  }
 },
 "nbformat": 4,
 "nbformat_minor": 5
}
